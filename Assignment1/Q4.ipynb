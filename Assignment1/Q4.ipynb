{
 "cells": [
  {
   "cell_type": "code",
   "execution_count": 1,
   "id": "55883a0e-7124-4635-99e6-690a4eba8b16",
   "metadata": {},
   "outputs": [],
   "source": [
    "import pulp\n",
    "import pandas as pd"
   ]
  },
  {
   "cell_type": "code",
   "execution_count": 2,
   "id": "75f17642-18c2-4723-a162-944dccab875b",
   "metadata": {},
   "outputs": [],
   "source": [
    "# Data\n",
    "demand = [280, 301, 277, 510, 285, 278, 291, 220, 304, 295, 302, 297]\n",
    "months = range(12)\n",
    "production_capacity = 32000\n",
    "initial_inventory = 150\n",
    "final_inventory = 150\n",
    "safety_stock = 100\n",
    "production_cost = 1010  # $10 (labor) + $1000 (material)\n",
    "inventory_cost = 100\n",
    "subcontracting_cost = 1200\n",
    "selling_price = [2600] * 12  # Default selling price per ton"
   ]
  },
  {
   "cell_type": "code",
   "execution_count": 3,
   "id": "9f7f56fa-fc93-47da-b921-a609ed88a60e",
   "metadata": {},
   "outputs": [],
   "source": [
    "# Promotion in April (Month 4) or August (Month 8)\n",
    "promotion_month = 7  # Promotion in August\n",
    "if promotion_month in months:\n",
    "    selling_price[promotion_month] = 2340  # Reduced selling price\n",
    "    if promotion_month < 10:\n",
    "        demand[promotion_month] = 1.5 * demand[promotion_month] + 0.2 * (demand[promotion_month + 1] + demand[promotion_month + 2])\n",
    "        demand[promotion_month + 1] *= 0.8\n",
    "        demand[promotion_month + 2] *= 0.8"
   ]
  },
  {
   "cell_type": "code",
   "execution_count": 4,
   "id": "b7f22bc5-75fd-4e7d-9759-ca8108129f9a",
   "metadata": {},
   "outputs": [],
   "source": [
    "# Model\n",
    "model = pulp.LpProblem(\"Aggregate_Production_Planning\", pulp.LpMaximize)"
   ]
  },
  {
   "cell_type": "code",
   "execution_count": 5,
   "id": "bda70ca0-0201-4f69-9948-9911e82e4f59",
   "metadata": {},
   "outputs": [],
   "source": [
    "# Decision Variables\n",
    "P = pulp.LpVariable.dicts(\"Production\", months, lowBound=0, cat='Continuous')\n",
    "I = pulp.LpVariable.dicts(\"Inventory\", months, lowBound=0, cat='Continuous')\n",
    "S = pulp.LpVariable.dicts(\"Subcontracting\", months, lowBound=0, cat='Continuous')"
   ]
  },
  {
   "cell_type": "code",
   "execution_count": 6,
   "id": "69f335f3-e8fe-42fd-a931-e6b701ba40c5",
   "metadata": {},
   "outputs": [],
   "source": [
    "# Objective Function (Profit Maximization)\n",
    "model += pulp.lpSum((selling_price[t] - production_cost) * P[t] + (selling_price[t] - subcontracting_cost) * S[t] - inventory_cost * I[t] for t in months)"
   ]
  },
  {
   "cell_type": "code",
   "execution_count": 7,
   "id": "67fefe3e-894b-4860-b352-4c97ea0bcb23",
   "metadata": {},
   "outputs": [],
   "source": [
    "# Constraints\n",
    "# Production Capacity\n",
    "for t in months:\n",
    "    model += P[t] <= production_capacity\n",
    "\n",
    "# Inventory Balance\n",
    "for t in range(1, 12):\n",
    "    model += I[t] == I[t-1] + P[t] + S[t] - demand[t]\n",
    "\n",
    "# Initial Inventory\n",
    "model += I[0] == initial_inventory + P[0] + S[0] - demand[0]\n",
    "\n",
    "# Final Inventory\n",
    "model += I[11] == final_inventory\n",
    "\n",
    "# Safety Stock Constraint\n",
    "for t in months:\n",
    "    model += I[t] >= safety_stock"
   ]
  },
  {
   "cell_type": "code",
   "execution_count": 8,
   "id": "221e36da-fdaa-497e-bcea-49c87f162662",
   "metadata": {},
   "outputs": [
    {
     "data": {
      "text/plain": [
       "1"
      ]
     },
     "execution_count": 8,
     "metadata": {},
     "output_type": "execute_result"
    }
   ],
   "source": [
    "# Solve\n",
    "model.solve()"
   ]
  },
  {
   "cell_type": "code",
   "execution_count": 9,
   "id": "a21143da-9260-4ff4-b7db-dde38094e700",
   "metadata": {},
   "outputs": [
    {
     "name": "stdout",
     "output_type": "stream",
     "text": [
      "Status: Optimal\n",
      "Month 1: Production=230.0, Inventory=100.0, Subcontracting=0.0\n",
      "Month 2: Production=301.0, Inventory=100.0, Subcontracting=0.0\n",
      "Month 3: Production=277.0, Inventory=100.0, Subcontracting=0.0\n",
      "Month 4: Production=510.0, Inventory=100.0, Subcontracting=0.0\n",
      "Month 5: Production=285.0, Inventory=100.0, Subcontracting=0.0\n",
      "Month 6: Production=278.0, Inventory=100.0, Subcontracting=0.0\n",
      "Month 7: Production=740.8, Inventory=549.8, Subcontracting=0.0\n",
      "Month 8: Production=0.0, Inventory=100.0, Subcontracting=0.0\n",
      "Month 9: Production=243.2, Inventory=100.0, Subcontracting=0.0\n",
      "Month 10: Production=236.0, Inventory=100.0, Subcontracting=0.0\n",
      "Month 11: Production=302.0, Inventory=100.0, Subcontracting=0.0\n",
      "Month 12: Production=347.0, Inventory=150.0, Subcontracting=0.0\n",
      "Total Profit: 5792520.0\n"
     ]
    }
   ],
   "source": [
    "# Results\n",
    "print(\"Status:\", pulp.LpStatus[model.status])\n",
    "for t in months:\n",
    "    print(f\"Month {t+1}: Production={P[t].varValue}, Inventory={I[t].varValue}, Subcontracting={S[t].varValue}\")\n",
    "\n",
    "print(\"Total Profit:\", pulp.value(model.objective))"
   ]
  }
 ],
 "metadata": {
  "kernelspec": {
   "display_name": "Python [conda env:base] *",
   "language": "python",
   "name": "conda-base-py"
  },
  "language_info": {
   "codemirror_mode": {
    "name": "ipython",
    "version": 3
   },
   "file_extension": ".py",
   "mimetype": "text/x-python",
   "name": "python",
   "nbconvert_exporter": "python",
   "pygments_lexer": "ipython3",
   "version": "3.12.4"
  }
 },
 "nbformat": 4,
 "nbformat_minor": 5
}
