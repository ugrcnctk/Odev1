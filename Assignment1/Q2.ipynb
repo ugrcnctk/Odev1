{
 "cells": [
  {
   "cell_type": "code",
   "execution_count": 1,
   "id": "ad81bf2c-d93f-486e-92d3-29c28046bfb8",
   "metadata": {},
   "outputs": [],
   "source": [
    "import pulp\n",
    "import pandas as pd"
   ]
  },
  {
   "cell_type": "code",
   "execution_count": 2,
   "id": "3961a7cb-47bc-45f4-b69d-e4fcf7064a01",
   "metadata": {},
   "outputs": [],
   "source": [
    "# Data\n",
    "demand = [280, 301, 277, 510, 285, 278, 291, 220, 304, 295, 302, 297]\n",
    "months = range(12)\n",
    "production_capacity = 32000\n",
    "initial_inventory = 150\n",
    "final_inventory = 150\n",
    "safety_stock = 100\n",
    "production_cost = 1010 # 10 dollar for labor, 100 dollar for material\n",
    "inventory_cost = 100\n",
    "subcontracting_cost = 1200"
   ]
  },
  {
   "cell_type": "code",
   "execution_count": 3,
   "id": "7f33a28d-4f38-4526-8cbc-23249509b090",
   "metadata": {},
   "outputs": [],
   "source": [
    "# Re-solve your model from part (1) with the objective of maximizing profit\n",
    "selling_price = 2600  # Selling price per ton"
   ]
  },
  {
   "cell_type": "code",
   "execution_count": 4,
   "id": "5277d4a9-37f5-4aee-aa86-3f4ed00861b2",
   "metadata": {},
   "outputs": [],
   "source": [
    "# Model\n",
    "model = pulp.LpProblem(\"Aggregate_Production_Planning\", pulp.LpMaximize)"
   ]
  },
  {
   "cell_type": "code",
   "execution_count": 5,
   "id": "b34931ee-2c22-4a1e-b7a1-2258439c259b",
   "metadata": {},
   "outputs": [],
   "source": [
    "# Decision Variables\n",
    "P = pulp.LpVariable.dicts(\"Production\", months, lowBound=0, cat='Continuous')\n",
    "I = pulp.LpVariable.dicts(\"Inventory\", months, lowBound=0, cat='Continuous')\n",
    "S = pulp.LpVariable.dicts(\"Subcontracting\", months, lowBound=0, cat='Continuous')"
   ]
  },
  {
   "cell_type": "code",
   "execution_count": 6,
   "id": "cfe6b7eb-ce6a-4bb9-8bdd-348123c3e53e",
   "metadata": {},
   "outputs": [],
   "source": [
    "# Objective Function (Profit Maximization)\n",
    "model += pulp.lpSum((selling_price - production_cost) * P[t] + (selling_price - subcontracting_cost) * S[t] - inventory_cost * I[t] for t in months)"
   ]
  },
  {
   "cell_type": "code",
   "execution_count": 7,
   "id": "76f0f524-9c82-4a0b-9155-be4f06f48450",
   "metadata": {},
   "outputs": [],
   "source": [
    "# Constraints\n",
    "# Production Capacity\n",
    "for t in months:\n",
    "    model += P[t] <= production_capacity\n",
    "\n",
    "# Inventory Balance\n",
    "for t in range(1, 12):\n",
    "    model += I[t] == I[t-1] + P[t] + S[t] - demand[t]\n",
    "\n",
    "# Initial Inventory\n",
    "model += I[0] == initial_inventory + P[0] + S[0] - demand[0]\n",
    "\n",
    "# Final Inventory\n",
    "model += I[11] == final_inventory\n",
    "\n",
    "# Safety Stock Constraint\n",
    "for t in months:\n",
    "    model += I[t] >= safety_stock"
   ]
  },
  {
   "cell_type": "code",
   "execution_count": 8,
   "id": "732dff85-91eb-481c-ac7a-2261c6570178",
   "metadata": {},
   "outputs": [
    {
     "name": "stdout",
     "output_type": "stream",
     "text": [
      "Status: Optimal\n",
      "Month 1: Production=230.0, Inventory=100.0, Subcontracting=0.0\n",
      "Month 2: Production=301.0, Inventory=100.0, Subcontracting=0.0\n",
      "Month 3: Production=277.0, Inventory=100.0, Subcontracting=0.0\n",
      "Month 4: Production=510.0, Inventory=100.0, Subcontracting=0.0\n",
      "Month 5: Production=285.0, Inventory=100.0, Subcontracting=0.0\n",
      "Month 6: Production=278.0, Inventory=100.0, Subcontracting=0.0\n",
      "Month 7: Production=291.0, Inventory=100.0, Subcontracting=0.0\n",
      "Month 8: Production=220.0, Inventory=100.0, Subcontracting=0.0\n",
      "Month 9: Production=304.0, Inventory=100.0, Subcontracting=0.0\n",
      "Month 10: Production=295.0, Inventory=100.0, Subcontracting=0.0\n",
      "Month 11: Production=302.0, Inventory=100.0, Subcontracting=0.0\n",
      "Month 12: Production=347.0, Inventory=150.0, Subcontracting=0.0\n",
      "Total Profit: 5662600.0\n"
     ]
    }
   ],
   "source": [
    "# Solve\n",
    "model.solve()\n",
    "\n",
    "# Results\n",
    "print(\"Status:\", pulp.LpStatus[model.status])\n",
    "for t in months:\n",
    "    print(f\"Month {t+1}: Production={P[t].varValue}, Inventory={I[t].varValue}, Subcontracting={S[t].varValue}\")\n",
    "\n",
    "print(\"Total Profit:\", pulp.value(model.objective))"
   ]
  }
 ],
 "metadata": {
  "kernelspec": {
   "display_name": "Python [conda env:base] *",
   "language": "python",
   "name": "conda-base-py"
  },
  "language_info": {
   "codemirror_mode": {
    "name": "ipython",
    "version": 3
   },
   "file_extension": ".py",
   "mimetype": "text/x-python",
   "name": "python",
   "nbconvert_exporter": "python",
   "pygments_lexer": "ipython3",
   "version": "3.12.4"
  }
 },
 "nbformat": 4,
 "nbformat_minor": 5
}
