{
 "cells": [
  {
   "cell_type": "code",
   "execution_count": 1,
   "id": "b4cba451-7dd9-476b-b6ab-b0e5892ff424",
   "metadata": {},
   "outputs": [],
   "source": [
    "import pulp\n",
    "import pandas as pd"
   ]
  },
  {
   "cell_type": "code",
   "execution_count": 2,
   "id": "a7790478-a16e-49e0-b5c4-3bd75d7ee43a",
   "metadata": {},
   "outputs": [],
   "source": [
    "# Data\n",
    "demand = [280, 301, 277, 510, 285, 278, 291, 220, 304, 295, 302, 297]\n",
    "months = range(12)\n",
    "production_capacity = 32000\n",
    "initial_inventory = 150\n",
    "final_inventory = 150\n",
    "safety_stock = 100\n",
    "production_cost = 1010 # 10 dollar for labor, 100 dollar for material\n",
    "inventory_cost = 100\n",
    "subcontracting_cost = 1200"
   ]
  },
  {
   "cell_type": "code",
   "execution_count": 3,
   "id": "21d10c26-934c-47b1-aa1c-5d759ccec40d",
   "metadata": {},
   "outputs": [],
   "source": [
    "# Model\n",
    "model = pulp.LpProblem(\"Aggregate_Production_Planning\", pulp.LpMinimize)"
   ]
  },
  {
   "cell_type": "code",
   "execution_count": 4,
   "id": "bf9204d6-d983-43ad-a6a0-af185a4fa11f",
   "metadata": {},
   "outputs": [],
   "source": [
    "# Decision Variables (consider non-negativity in here)\n",
    "P = pulp.LpVariable.dicts(\"Production\", months, lowBound=0, cat='Continuous')\n",
    "I = pulp.LpVariable.dicts(\"Inventory\", months, lowBound=0, cat='Continuous')\n",
    "S = pulp.LpVariable.dicts(\"Subcontracting\", months, lowBound=0, cat='Continuous')"
   ]
  },
  {
   "cell_type": "code",
   "execution_count": 5,
   "id": "923534ce-959c-47ed-a096-e973b348b653",
   "metadata": {},
   "outputs": [],
   "source": [
    "# Objective Function\n",
    "model += pulp.lpSum(production_cost * P[t] + inventory_cost * I[t] + subcontracting_cost * S[t] for t in months)"
   ]
  },
  {
   "cell_type": "code",
   "execution_count": 6,
   "id": "26f0d8c7-6582-4999-82db-382a8a6f494d",
   "metadata": {},
   "outputs": [],
   "source": [
    "# Constraints\n",
    "# Production Capacity\n",
    "for t in months:\n",
    "    model += P[t] <= production_capacity\n",
    "\n",
    "# Inventory Balance\n",
    "for t in range(1, 12):\n",
    "    model += I[t] == I[t-1] + P[t] + S[t] - demand[t]\n",
    "\n",
    "# Initial Inventory\n",
    "model += I[0] == initial_inventory + P[0] + S[0] - demand[0]\n",
    "\n",
    "# Final Inventory\n",
    "model += I[11] == final_inventory\n",
    "\n",
    "# Safety Stock Constraint\n",
    "for t in months:\n",
    "    model += I[t] >= safety_stock"
   ]
  },
  {
   "cell_type": "code",
   "execution_count": 7,
   "id": "136db5ce-f7db-4768-ad65-56c0e3f9c38c",
   "metadata": {},
   "outputs": [
    {
     "name": "stdout",
     "output_type": "stream",
     "text": [
      "Status: Optimal\n",
      "Month 1: Production=230.0, Inventory=100.0, Subcontracting=0.0\n",
      "Month 2: Production=301.0, Inventory=100.0, Subcontracting=0.0\n",
      "Month 3: Production=277.0, Inventory=100.0, Subcontracting=0.0\n",
      "Month 4: Production=510.0, Inventory=100.0, Subcontracting=0.0\n",
      "Month 5: Production=285.0, Inventory=100.0, Subcontracting=0.0\n",
      "Month 6: Production=278.0, Inventory=100.0, Subcontracting=0.0\n",
      "Month 7: Production=291.0, Inventory=100.0, Subcontracting=0.0\n",
      "Month 8: Production=220.0, Inventory=100.0, Subcontracting=0.0\n",
      "Month 9: Production=304.0, Inventory=100.0, Subcontracting=0.0\n",
      "Month 10: Production=295.0, Inventory=100.0, Subcontracting=0.0\n",
      "Month 11: Production=302.0, Inventory=100.0, Subcontracting=0.0\n",
      "Month 12: Production=347.0, Inventory=150.0, Subcontracting=0.0\n",
      "Total Cost: 3801400.0\n"
     ]
    }
   ],
   "source": [
    "# Solve\n",
    "model.solve()\n",
    "\n",
    "# Results\n",
    "print(\"Status:\", pulp.LpStatus[model.status])\n",
    "for t in months:\n",
    "    print(f\"Month {t+1}: Production={P[t].varValue}, Inventory={I[t].varValue}, Subcontracting={S[t].varValue}\")\n",
    "\n",
    "print(\"Total Cost:\", pulp.value(model.objective))"
   ]
  }
 ],
 "metadata": {
  "kernelspec": {
   "display_name": "Python [conda env:base] *",
   "language": "python",
   "name": "conda-base-py"
  },
  "language_info": {
   "codemirror_mode": {
    "name": "ipython",
    "version": 3
   },
   "file_extension": ".py",
   "mimetype": "text/x-python",
   "name": "python",
   "nbconvert_exporter": "python",
   "pygments_lexer": "ipython3",
   "version": "3.12.4"
  }
 },
 "nbformat": 4,
 "nbformat_minor": 5
}
