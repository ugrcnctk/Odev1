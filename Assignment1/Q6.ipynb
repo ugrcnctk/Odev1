{
 "cells": [
  {
   "cell_type": "markdown",
   "id": "b265bd5a-0b9a-4f24-a080-242be1d686fb",
   "metadata": {},
   "source": [
    "# Q&H promotes in April but Unilock does not promote throughout the year"
   ]
  },
  {
   "cell_type": "code",
   "execution_count": 2,
   "id": "069bb770-f38b-4828-872a-05e7fd6b5905",
   "metadata": {},
   "outputs": [],
   "source": [
    "import pulp\n",
    "import pandas as pd"
   ]
  },
  {
   "cell_type": "code",
   "execution_count": 3,
   "id": "08e77838-85c8-4a40-8e48-5f2477418b02",
   "metadata": {},
   "outputs": [],
   "source": [
    "# Data\n",
    "demand = [280, 301, 277, 510, 285, 278, 291, 220, 304, 295, 302, 297]\n",
    "months = range(12)\n",
    "production_capacity = 32000\n",
    "initial_inventory = 150\n",
    "final_inventory = 150\n",
    "safety_stock = 100\n",
    "production_cost = 1010  # $10 (labor) + $1000 (material)\n",
    "inventory_cost = 100\n",
    "subcontracting_cost = 1200\n",
    "selling_price = [2600] * 12  # Default selling price per ton"
   ]
  },
  {
   "cell_type": "code",
   "execution_count": 4,
   "id": "2915883f-5d46-4a8d-bd21-44014029fc7c",
   "metadata": {},
   "outputs": [],
   "source": [
    "# Promotion Settings\n",
    "qh_promotion_month = 3  # Set to None if Q&H does not promote\n",
    "unilock_promotion_month = None  # Set to None if Unilock does not promote\n",
    "\n",
    "if qh_promotion_month is not None:\n",
    "    selling_price[qh_promotion_month] = 2340  # Q&H discount\n",
    "    if unilock_promotion_month is None or unilock_promotion_month != qh_promotion_month:  # Only Q&H promotes\n",
    "        demand[qh_promotion_month] = 1.5 * demand[qh_promotion_month] + 0.2 * (demand[qh_promotion_month + 1] + demand[qh_promotion_month + 2])\n",
    "        demand[qh_promotion_month + 1] *= 0.8\n",
    "        demand[qh_promotion_month + 2] *= 0.8\n",
    "    elif unilock_promotion_month == qh_promotion_month:  # Both promote\n",
    "        demand[qh_promotion_month] = demand[qh_promotion_month] + 0.25 * (demand[qh_promotion_month + 1] + demand[qh_promotion_month + 2])\n",
    "        demand[qh_promotion_month + 1] *= 0.75\n",
    "        demand[qh_promotion_month + 2] *= 0.75\n",
    "\n",
    "if unilock_promotion_month is not None:\n",
    "    if qh_promotion_month is None or qh_promotion_month != unilock_promotion_month:  # Only Unilock promotes\n",
    "        demand[unilock_promotion_month] *= 0.5\n",
    "    elif qh_promotion_month == unilock_promotion_month:  # Both promote (already handled above)\n",
    "        pass"
   ]
  },
  {
   "cell_type": "code",
   "execution_count": 5,
   "id": "47ac7b95-390f-4391-8918-3dfc72b6874f",
   "metadata": {},
   "outputs": [],
   "source": [
    "# Model\n",
    "model = pulp.LpProblem(\"Aggregate_Production_Planning\", pulp.LpMaximize)"
   ]
  },
  {
   "cell_type": "code",
   "execution_count": 6,
   "id": "e9a7c16e-df41-4d98-8cf0-186c2f4ef2d8",
   "metadata": {},
   "outputs": [],
   "source": [
    "# Decision Variables\n",
    "P = pulp.LpVariable.dicts(\"Production\", months, lowBound=0, cat='Continuous')\n",
    "I = pulp.LpVariable.dicts(\"Inventory\", months, lowBound=0, cat='Continuous')\n",
    "S = pulp.LpVariable.dicts(\"Subcontracting\", months, lowBound=0, cat='Continuous')"
   ]
  },
  {
   "cell_type": "code",
   "execution_count": 7,
   "id": "8da1e03c-df99-4896-b2c7-47cd91edc81a",
   "metadata": {},
   "outputs": [],
   "source": [
    "# Objective Function (Profit Maximization)\n",
    "model += pulp.lpSum((selling_price[t] - production_cost) * P[t] + (selling_price[t] - subcontracting_cost) * S[t] - inventory_cost * I[t] for t in months)"
   ]
  },
  {
   "cell_type": "code",
   "execution_count": 8,
   "id": "8b0eb786-3574-42f5-8374-54482484aa84",
   "metadata": {},
   "outputs": [],
   "source": [
    "# Constraints\n",
    "# Production Capacity\n",
    "for t in months:\n",
    "    model += P[t] <= production_capacity\n",
    "\n",
    "# Inventory Balance\n",
    "for t in range(1, 12):\n",
    "    model += I[t] == I[t-1] + P[t] + S[t] - demand[t]\n",
    "\n",
    "# Initial Inventory\n",
    "model += I[0] == initial_inventory + P[0] + S[0] - demand[0]\n",
    "\n",
    "# Final Inventory\n",
    "model += I[11] == final_inventory\n",
    "\n",
    "# Safety Stock Constraint\n",
    "for t in months:\n",
    "    model += I[t] >= safety_stock"
   ]
  },
  {
   "cell_type": "code",
   "execution_count": 9,
   "id": "43888b74-7b76-4879-92dc-bb28811543af",
   "metadata": {},
   "outputs": [
    {
     "data": {
      "text/plain": [
       "1"
      ]
     },
     "execution_count": 9,
     "metadata": {},
     "output_type": "execute_result"
    }
   ],
   "source": [
    "# Solve\n",
    "model.solve()"
   ]
  },
  {
   "cell_type": "code",
   "execution_count": 10,
   "id": "4f4ddb2d-360f-4ba7-a994-ab659c87fbea",
   "metadata": {},
   "outputs": [
    {
     "name": "stdout",
     "output_type": "stream",
     "text": [
      "Status: Optimal\n",
      "Month 1: Production=230.0, Inventory=100.0, Subcontracting=0.0\n",
      "Month 2: Production=301.0, Inventory=100.0, Subcontracting=0.0\n",
      "Month 3: Production=1154.6, Inventory=977.6, Subcontracting=0.0\n",
      "Month 4: Production=0.0, Inventory=100.0, Subcontracting=0.0\n",
      "Month 5: Production=228.0, Inventory=100.0, Subcontracting=0.0\n",
      "Month 6: Production=222.4, Inventory=100.0, Subcontracting=0.0\n",
      "Month 7: Production=291.0, Inventory=100.0, Subcontracting=0.0\n",
      "Month 8: Production=220.0, Inventory=100.0, Subcontracting=0.0\n",
      "Month 9: Production=304.0, Inventory=100.0, Subcontracting=0.0\n",
      "Month 10: Production=295.0, Inventory=100.0, Subcontracting=0.0\n",
      "Month 11: Production=302.0, Inventory=100.0, Subcontracting=0.0\n",
      "Month 12: Production=347.0, Inventory=150.0, Subcontracting=0.0\n",
      "Total Profit: 5980290.0\n"
     ]
    }
   ],
   "source": [
    "# Results\n",
    "print(\"Status:\", pulp.LpStatus[model.status])\n",
    "for t in months:\n",
    "    print(f\"Month {t+1}: Production={P[t].varValue}, Inventory={I[t].varValue}, Subcontracting={S[t].varValue}\")\n",
    "\n",
    "print(\"Total Profit:\", pulp.value(model.objective))"
   ]
  }
 ],
 "metadata": {
  "kernelspec": {
   "display_name": "Python [conda env:base] *",
   "language": "python",
   "name": "conda-base-py"
  },
  "language_info": {
   "codemirror_mode": {
    "name": "ipython",
    "version": 3
   },
   "file_extension": ".py",
   "mimetype": "text/x-python",
   "name": "python",
   "nbconvert_exporter": "python",
   "pygments_lexer": "ipython3",
   "version": "3.12.4"
  }
 },
 "nbformat": 4,
 "nbformat_minor": 5
}
